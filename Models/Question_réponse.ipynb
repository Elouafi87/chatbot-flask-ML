{
 "cells": [
  {
   "cell_type": "code",
   "execution_count": 7,
   "metadata": {},
   "outputs": [
    {
     "name": "stdout",
     "output_type": "stream",
     "text": [
      " Entrez votre nom: Noureddine ELOUAFI\n",
      "\n",
      "Hacer ggg\n",
      "Oups, la bonne réponse est \"faire\".\n",
      "comergg\n",
      "Oups, la bonne réponse est \"manger\".\n",
      "playa gg\n",
      "Oups, la bonne réponse est \"plage\".\n",
      "cuidad gg\n",
      "Oups, la bonne réponse est \"ville\".\n",
      " salir gg\n",
      "Oups, la bonne réponse est \"sortir\".\n",
      "\n",
      "Bien joué Noureddine Elouafi, vous avez repondu à 0 de 5 questions.\n"
     ]
    }
   ],
   "source": [
    "def main():\n",
    "    questions={'Hacer ':'faire', 'comer':'manger', 'playa ':'plage', 'cuidad ':'ville', ' salir ':'sortir'}    \n",
    "    nom = input (\" Entrez votre nom: \").title()\n",
    "    print ()\n",
    "    print(\"\\nBien joué {0}, vous avez repondu à {1} de {2} questions.\"\n",
    "          .format(nom, quiz(questions), len(questions)))\n",
    "\n",
    "def quiz(qs):\n",
    "    points = 0\n",
    "    for qu,an in qs.items():\n",
    "        if input(qu).lower() == an.lower():\n",
    "            points += 1\n",
    "            print(\"Juste.\")\n",
    "        else:\n",
    "            print(\"Oups, la bonne réponse est \\\"{}\\\".\".format(an))\n",
    "    return points\n",
    "\n",
    "if __name__ == \"__main__\":\n",
    "    main()"
   ]
  },
  {
   "cell_type": "code",
   "execution_count": 32,
   "metadata": {},
   "outputs": [
    {
     "name": "stdout",
     "output_type": "stream",
     "text": [
      "Entrer votre nom: Noureddine\n",
      "avez vous de la fièvre ?\n",
      " (a) oui \n",
      " (b) non \n",
      "oui\n",
      "Avez vous de la toux ?\n",
      " (a) oui \n",
      " (b) non \n",
      "non\n",
      "Est ce que vous êtes essoufflé ?\n",
      " (a) oui \n",
      " (b) non \n",
      "oui\n",
      "Avez vous mal à la gorge ?\n",
      " (a) oui \n",
      " (b) non \n",
      "non\n",
      "Avez vous mal à la tête ?\n",
      " (a) oui \n",
      " (b) non \n",
      "oui\n"
     ]
    }
   ],
   "source": [
    "class Question:\n",
    "    def __init__(self, probleme, reponse):\n",
    "        self.probleme= probleme\n",
    "        self.reponse= reponse\n",
    "        \n",
    "question_pro = [\n",
    "\"avez vous de la fièvre ?\\n (a) oui \\n (b) non \\n\",\n",
    "\"Avez vous de la toux ?\\n (a) oui \\n (b) non \\n\",\n",
    "\"Est ce que vous êtes essoufflé ?\\n (a) oui \\n (b) non \\n\",\n",
    "\"Avez vous mal à la gorge ?\\n (a) oui \\n (b) non \\n\",\n",
    "\"Avez vous mal à la tête ?\\n (a) oui \\n (b) non \\n\",\n",
    "\"Avez vous plus de 60 ans ?\\n (a) oui \\n (b) non \\n\"]\n",
    "        \n",
    "        \n",
    "nom = input(\"Entrer votre nom: \").title()     \n",
    "questions = [\n",
    "Question(question_pro[0], \"a\"),\n",
    "Question(question_pro[1], \"b\"),\n",
    "Question(question_pro[2], \"a\"),\n",
    "Question(question_pro[3], \"a\"),\n",
    "Question(question_pro[4], \"b\")]\n",
    "            \n",
    "def lancer_quiz(ques):\n",
    "    resultat = 0\n",
    "    for question in ques:\n",
    "        reponse = input (question.probleme)\n",
    "        if reponse == question.reponse:\n",
    "            resultat += 1\n",
    "            print (\"\\n{0}, vous avez répondu à {1} de {2} questions.\".format (nom, resultat, len(questions)))\n",
    "                \n",
    "lancer_quiz(questions)"
   ]
  },
  {
   "cell_type": "code",
   "execution_count": null,
   "metadata": {},
   "outputs": [],
   "source": []
  }
 ],
 "metadata": {
  "kernelspec": {
   "display_name": "Python 3",
   "language": "python",
   "name": "python3"
  },
  "language_info": {
   "codemirror_mode": {
    "name": "ipython",
    "version": 3
   },
   "file_extension": ".py",
   "mimetype": "text/x-python",
   "name": "python",
   "nbconvert_exporter": "python",
   "pygments_lexer": "ipython3",
   "version": "3.8.5"
  }
 },
 "nbformat": 4,
 "nbformat_minor": 4
}
